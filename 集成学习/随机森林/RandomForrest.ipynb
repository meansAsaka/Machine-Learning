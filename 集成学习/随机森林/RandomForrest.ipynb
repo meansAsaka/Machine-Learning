{
 "cells": [
  {
   "cell_type": "markdown",
   "metadata": {},
   "source": [
    "# 随机森林(RF)案例\n",
    "\n",
    "### 案例：使用sklearn构建RF模型，预测学生最终是否通过考试，对模型进行调优\n",
    "- sklearn实现决RF\n",
    "- 可视化RF"
   ]
  },
  {
   "cell_type": "markdown",
   "metadata": {},
   "source": [
    "### 数据集：student_data_RF.csv\n",
    "该数据集取自一所学校K12阶段学生的在线行为日志数据。具体字段如下：\n",
    "- content，学生查看课程资料的次数\n",
    "- assessment，学生参加测验的次数\n",
    "- check_grade，查看成绩次数\n",
    "- interaction，根据日志中的时间和位置信息计算出的学生类别，共7类\n",
    "- passCourse，是否通过期末考试（0-YES，1-NO）"
   ]
  },
  {
   "cell_type": "markdown",
   "metadata": {},
   "source": [
    "## 1.读取数据\n",
    "pandas读取数据"
   ]
  },
  {
   "cell_type": "code",
   "execution_count": 1,
   "metadata": {},
   "outputs": [],
   "source": [
    "import pandas as pd\n",
    "data = pd.read_csv('student_data_RF.csv', index_col=0) #使用pandas读取数据"
   ]
  },
  {
   "cell_type": "markdown",
   "metadata": {},
   "source": [
    "## 2.模型分析"
   ]
  },
  {
   "cell_type": "markdown",
   "metadata": {},
   "source": [
    "### 2.1 划分数据集\n",
    "- sklearn.model_selection 的 train_test_split方法"
   ]
  },
  {
   "cell_type": "code",
   "execution_count": 2,
   "metadata": {},
   "outputs": [
    {
     "name": "stdout",
     "output_type": "stream",
     "text": [
      "train dataset: (1285, 4); test dataset: (322, 4)\n"
     ]
    }
   ],
   "source": [
    "from sklearn.model_selection import train_test_split\n",
    "\n",
    "y = data['isPassExam'].values #获取目标变量（label）\n",
    "X = data.drop(['isPassExam'], axis=1).values#丢弃目标变量，得到输入变量\n",
    "X_train, X_test, y_train, y_test = train_test_split(X, y, test_size=0.2)#划分测试集和训练集\n",
    "\n",
    "print('train dataset: {0}; test dataset: {1}'.format(\n",
    "    X_train.shape, X_test.shape)) #训练集和测试集的样本数"
   ]
  },
  {
   "cell_type": "markdown",
   "metadata": {},
   "source": [
    "###  2.2 模型构建\n",
    "构建随机森林模型，使用sklearn.ensemble的RandomForestClassifier()方法，参数如下：\n",
    "\n",
    "- n_estimators:森林里（决策）树的数目.整数，可选择(默认值为10)。\n",
    "- criterion:特征选择算法，可选择信息熵(entropy)或基尼不纯度(gini);\n",
    "- max_depth:指定树的最大深度，可解决过拟合问题；\n",
    "- min_samples_split:内部节点再划分所需最小样本数，小于此值不创建分支，一般是2，是一种前剪枝办法；适用于样本量大的情况；\n",
    "- min_samples_leaf:叶子节点需要的最小的样本个数，如果叶子节点数小于设定的值，则会跟兄弟节点一起被剪枝，可以设定具体个数或者百分比，这也是一种前剪枝办法；\n",
    "- max_leaf_nodes:限制最大的叶子节点个数，即叶子个数最多不能超过的值，主要是防止过拟合\n",
    "- min_impurity_decrease：最小不纯度，这个值限制了决策树的增长，如果某节点的不纯度(基尼系数，信息增益，均方差，绝对差)小于这个阈值，则该节点不再生成子节点,即为叶子节点;\n",
    "- max_features：划分时考虑的最大特征数，如果是None表示考虑所有特征，也可以是其它指定的个数\n"
   ]
  },
  {
   "cell_type": "code",
   "execution_count": 3,
   "metadata": {},
   "outputs": [],
   "source": [
    "from sklearn.ensemble import RandomForestClassifier #使用这个包构建随机森林\n",
    "\n",
    "rf = RandomForestClassifier(n_estimators=5) #构建随机森林"
   ]
  },
  {
   "cell_type": "markdown",
   "metadata": {},
   "source": [
    "###  2.3 训练和评估模型\n",
    "- 训练模型RandomForestClassifier().fit()，填入训练数据的x和y\n",
    "- 评估模型score()获得准确率，sklearn.metrics 的 precision_recall_curve方法获得精度 召回率等"
   ]
  },
  {
   "cell_type": "code",
   "execution_count": 4,
   "metadata": {},
   "outputs": [
    {
     "name": "stdout",
     "output_type": "stream",
     "text": [
      "train_score 0.978988326848249\n",
      "test_score 0.8509316770186336\n"
     ]
    }
   ],
   "source": [
    "from sklearn.metrics import accuracy_score,precision_score,recall_score,f1_score\n",
    "\n",
    "rf.fit(X_train, y_train)#拟合模型\n",
    "\n",
    "train_score = rf.score(X_train, y_train)\n",
    "test_score = rf.score(X_test, y_test)\n",
    "\n",
    "print('train_score',train_score)\n",
    "\n",
    "print('test_score',test_score)\n",
    "\n"
   ]
  },
  {
   "cell_type": "markdown",
   "metadata": {},
   "source": [
    "### 2.3 交叉验证\n",
    "- sklearn.model_selection的cross_val_score方法"
   ]
  },
  {
   "cell_type": "code",
   "execution_count": 5,
   "metadata": {},
   "outputs": [
    {
     "name": "stdout",
     "output_type": "stream",
     "text": [
      "X.shape (1607, 4)\n",
      "y.shape (1607,)\n",
      "scores [0.83229814 0.83540373 0.85981308 0.84735202 0.88161994]\n",
      "scores_mean 0.8512973820166019\n"
     ]
    }
   ],
   "source": [
    "from sklearn.model_selection import  cross_val_score\n",
    "\n",
    "print('X.shape',X.shape)\n",
    "print('y.shape',y.shape)\n",
    "scores = cross_val_score(rf, X, y, cv=5) #五次交叉验证结果\n",
    "print('scores',scores)\n",
    "scores_series = pd.Series(scores)\n",
    "scores_mean = scores_series.mean() #求得五次交叉验证结果平均值\n",
    "print('scores_mean',scores_mean)"
   ]
  },
  {
   "cell_type": "markdown",
   "metadata": {},
   "source": [
    "### 2.4 随机森林可视化\n",
    "- 只能用rf.estimators_[]一次导出其中一棵树\n",
    "- 先安装graphviz工具，将其安装路径加入环境变量\n",
    "- 使用sklearn.tree.export_graphviz()方法画决策树，生成可视化文件"
   ]
  },
  {
   "cell_type": "code",
   "execution_count": 6,
   "metadata": {},
   "outputs": [
    {
     "data": {
      "text/plain": [
       "True"
      ]
     },
     "execution_count": 6,
     "metadata": {},
     "output_type": "execute_result"
    }
   ],
   "source": [
    "from sklearn.tree import export_graphviz\n",
    "from sklearn import tree\n",
    "import pydotplus\n",
    "\n",
    " \n",
    "estimator = rf.estimators_[0] #获取其中一棵树\n",
    "feature_name=['content','assessment','check_grade','interaction']\n",
    "dot_data = tree.export_graphviz(estimator,feature_names=feature_name,out_file=None)\n",
    "graph = pydotplus.graph_from_dot_data(dot_data)\n",
    "graph.write_pdf(\"students_rf.pdf\")\n",
    "\n",
    "# 1. 在电脑上安装 graphviz，将其加入环境变量\n",
    "# 2. 运行 `dot -Tpng titanic.dot -o titanic.png` \n",
    "# 3. 在当前目录查看生成的决策树 titanic.png"
   ]
  },
  {
   "cell_type": "markdown",
   "metadata": {},
   "source": [
    "## 3.与决策树对比"
   ]
  },
  {
   "cell_type": "code",
   "execution_count": 7,
   "metadata": {},
   "outputs": [
    {
     "name": "stdout",
     "output_type": "stream",
     "text": [
      "train dataset: (1285, 4); test dataset: (322, 4)\n",
      "scores [0.79813665 0.79192547 0.79127726 0.80996885 0.80685358]\n",
      "scores_mean 0.7996323600549525\n"
     ]
    },
    {
     "data": {
      "text/plain": [
       "True"
      ]
     },
     "execution_count": 7,
     "metadata": {},
     "output_type": "execute_result"
    }
   ],
   "source": [
    "%matplotlib inline\n",
    "import matplotlib.pyplot as plt\n",
    "from sklearn.model_selection import train_test_split\n",
    "from sklearn.tree import DecisionTreeClassifier #使用这个包构建决策树\n",
    "from sklearn.metrics import accuracy_score \n",
    "from sklearn.model_selection import  cross_val_score\n",
    "\n",
    "import pandas as pd\n",
    "\n",
    "#读取数据\n",
    "data = pd.read_csv('student_data_RF.csv', index_col=0) #使用pandas读取数据\n",
    " \n",
    "y = data['isPassExam'].values #获取目标变量（label）\n",
    "X = data.drop(['isPassExam'], axis=1).values#丢弃目标变量，得到输入变量\n",
    "\n",
    "#划分数据及\n",
    "X_train, X_test, y_train, y_test = train_test_split(X, y, test_size=0.2)#划分测试集和训练集\n",
    "\n",
    "print('train dataset: {0}; test dataset: {1}'.format(\n",
    "    X_train.shape, X_test.shape)) #训练集和测试集的样本数\n",
    "\n",
    "#构建和训练模型\n",
    "clf_dt = DecisionTreeClassifier() #构建决策树\n",
    "\n",
    "clf_dt.fit(X_train, y_train)#拟合模型\n",
    "\n",
    "train_predict = clf_dt.predict(X_train)\n",
    "test_predict = clf_dt.predict(X_test)\n",
    "\n",
    "#交叉验证\n",
    "scores = cross_val_score(clf_dt, X, y, cv=5) #五次交叉验证结果\n",
    "print('scores',scores)\n",
    "scores_series = pd.Series(scores)\n",
    "scores_mean = scores_series.mean() #求得五次交叉验证结果平均值\n",
    "print('scores_mean',scores_mean)\n",
    "\n",
    "#决策树可视化\n",
    "import pydotplus  \n",
    "#导出为pdf\n",
    "feature_name=['content','assessment','check_grade','interaction']\n",
    "dot_data = tree.export_graphviz(clf_dt,feature_names=feature_name, out_file=None)\n",
    "graph = pydotplus.graph_from_dot_data(dot_data)\n",
    "graph.write_pdf(\"students_dt.pdf\")\n"
   ]
  },
  {
   "cell_type": "markdown",
   "metadata": {},
   "source": [
    "## 4.案例练习\n",
    "重复上述案例，设置不同的随机森林参数，使得结果尽可能高；\n"
   ]
  },
  {
   "cell_type": "code",
   "execution_count": null,
   "metadata": {},
   "outputs": [],
   "source": []
  }
 ],
 "metadata": {
  "kernelspec": {
   "display_name": "Python [conda env:TF] *",
   "language": "python",
   "name": "conda-env-TF-py"
  },
  "language_info": {
   "codemirror_mode": {
    "name": "ipython",
    "version": 3
   },
   "file_extension": ".py",
   "mimetype": "text/x-python",
   "name": "python",
   "nbconvert_exporter": "python",
   "pygments_lexer": "ipython3",
   "version": "3.11.10"
  }
 },
 "nbformat": 4,
 "nbformat_minor": 2
}
